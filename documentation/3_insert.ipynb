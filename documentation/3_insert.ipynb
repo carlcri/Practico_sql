{
 "cells": [
  {
   "cell_type": "markdown",
   "metadata": {},
   "source": [
    "# INSERT"
   ]
  },
  {
   "cell_type": "markdown",
   "metadata": {},
   "source": [
    "## Comando INSERT\n",
    "\n",
    "script **2_insert.sql**\n",
    "\n",
    "Existen muchas formas de hacer un INSERT, tomemos por ejemplo la tabla *authors*\n",
    "\n",
    "![](https://i.imgur.com/GlKmJBW.png)\n",
    "\n",
    "Y tambien varias filas a la vez:\n",
    "\n",
    "Se recomienda en inserciones masivas de datos, hacerlos en *chunks* de a 50.\n",
    "\n",
    "![](https://i.imgur.com/hhCSU5r.png)"
   ]
  },
  {
   "cell_type": "markdown",
   "metadata": {},
   "source": [
    "## Comando on duplicate key\n",
    "\n",
    "**script 3_insert.sql**\n",
    "\n",
    "Ayuda a que los flujos sean mucho mas rapidos. \n",
    "\n",
    "Vamos a insertar unos datos en la tabla *clients* que ahora mismo esta vacia. \n",
    "\n",
    "![](https://i.imgur.com/w1t3PTX.png)"
   ]
  },
  {
   "cell_type": "markdown",
   "metadata": {},
   "source": [
    "Ahora, intentemos ingresar un nuevo usuario, pero con el mismo correo de *Ana Ruiz*:\n",
    "\n",
    "![](https://i.imgur.com/WgTuirc.png)\n",
    "\n",
    "No lo va a permitir, porque al momento de declarar la tabla, el email tenia que ser unico para cada usuario\n",
    "\n",
    "### IGNORE ALL - MALA PRACTICA\n",
    "\n",
    "Nunca lo uses: DE hecho no funciono\n",
    "\n",
    "### UPDATE\n",
    "\n",
    "Para el caso, simplemente actualiza el estado activo:\n",
    "\n",
    "![](https://i.imgur.com/APfUqSi.png)\n",
    "\n",
    "Si quieres que muestre la informacion de otra forma, es muy util:\n",
    "\n",
    "    select * from clients where client_id=6 \\G 👈\n",
    "\n",
    "\n",
    "![](https://i.imgur.com/Q6bYUPd.png)\n",
    "\n",
    "CTRL +L para limpiar pantalla 👈"
   ]
  },
  {
   "cell_type": "markdown",
   "metadata": {},
   "source": [
    "## Insercion de datos usando Querries anidados\n",
    "\n",
    "**script 3_insert.sql**\n",
    "\n",
    "Supongamos tenemos un CSV con los nombres de algunos libros de Gabriel Garcia Marquez:\n",
    "\n",
    "    Title,Year,Genre\n",
    "    One Hundred Years of Solitude,1967,Magical Realism\n",
    "    Love in the Time of Cholera,1985,Romance\n",
    "    Chronicle of a Death Foretold,1981,Mystery\n",
    "    The Autumn of the Patriarch,1975,Political Fiction\n",
    "    Love and Other Demons,1994,Horror\n",
    "    Of Love and Other Demons,1994,Romance\n",
    "\n",
    "Si quisieramos ingresar todos estos libros a mano, debemos ubicar primero el ID del author:\n",
    "\n",
    "    select * from authors where name='Gabriel Garcia';\n",
    "\n",
    "![](https://i.imgur.com/JExDB6O.png)\n",
    "\n",
    "El ID es 3."
   ]
  },
  {
   "cell_type": "markdown",
   "metadata": {},
   "source": [
    "Ahora escribimos un INSERT para ingresarlo en la tabla libros:\n",
    "\n",
    "    INSERT INTO books(author_id, title, year, language) \n",
    "    VALUES (3, 'One Hundred Years of Solitude', 1967,'en' );\n",
    "\n",
    "### Usando un Querry anidado\n",
    "\n",
    "para encontrar el ID del autor en el mismo:\n",
    "\n",
    "![](https://i.imgur.com/YsA1PPV.png)\n",
    "\n",
    "Es mas, para la siguiente insercion lo vamos hacer mucho mas elaborado, para limitarlo solamente a un registro, con *LIMIT*:\n",
    "\n",
    "    INSERT INTO books(author_id, title) \n",
    "    VALUES ((SELECT author_id FROM authors \n",
    "    WHERE `name`='Gabriel Garcia'\n",
    "    LIMIT 1), 👈\n",
    "    'Chronicle of a Death Foretold');"
   ]
  },
  {
   "cell_type": "markdown",
   "metadata": {},
   "source": [
    "El profesor no es muy fan de los Querris Anidados, esto deberia estar en una otra capa de negocio para traer todos los autores, y saber cual es su ID, y desde el lenguaje de programacion, sea el que sea, y fuera de la BD hacer esto. Pero MySQL lo permite, es potente pero hay que usarlo con cuidado. \n",
    "\n",
    "Otra de las razones para *NO USAR* querries anidados es que el tiempo se eleva al cuadrado, y asi por cada una de las tuplas que se vaya a ejecutar. "
   ]
  }
 ],
 "metadata": {
  "language_info": {
   "name": "python"
  },
  "orig_nbformat": 4
 },
 "nbformat": 4,
 "nbformat_minor": 2
}
