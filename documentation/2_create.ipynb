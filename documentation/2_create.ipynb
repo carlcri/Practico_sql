{
 "cells": [
  {
   "cell_type": "markdown",
   "metadata": {},
   "source": [
    "# CREATE"
   ]
  },
  {
   "cell_type": "markdown",
   "metadata": {},
   "source": [
    "## Comando CREATE\n",
    "\n",
    "MySQL Table Types/Storage Engines:\n",
    "\n",
    "- SAM.\n",
    "- MyISAM.\n",
    "- MERGE.\n",
    "- InnoDB.\n",
    "- MEMORY (HEAP)\n",
    "- ARCHIVE.\n",
    "- BDB.\n",
    "- CSV.\n",
    "\n",
    "Los tipos de datos mas usados son InnoDB(mas nueva, robusta, mas lenta) y MyISAM(directa, sencilla, más rápida)\n",
    "\n",
    "En la vida real usamos las tablas con dos propósitos:\n",
    "\n",
    "- Catalogo: crecerá en un orden lento, según las necesidades de la propia BD. (Listado de Usuarios, InnoDB)\n",
    "\n",
    "- Operación: se enfocan a lectura, mayor acceso a disco duro. (Prestamos de libros, MyISAM).\n",
    "\n",
    "### ¿Tienes dudas de que motor necesitas?\n",
    "\n",
    "- ¿La tabla va recibir INSERT UPDATE y DELETE  mucho mas tiempo de lo que sera consultada? InnoDB\n",
    "\n",
    "- ¿Requiere diseño relacional de BD? InnoDB\n",
    "\n",
    "- ¿Es un problema el espacio o memoria RAM? MyISAM"
   ]
  },
  {
   "cell_type": "markdown",
   "metadata": {},
   "source": [
    "## Tipos de columnas / Creación de la tabla books\n",
    "\n",
    "Creando una nueva BD:\n",
    "\n",
    "    CREATE DATABASE IF NOT EXISTS platzi;\n",
    "\n",
    "![](https://i.imgur.com/cHkUXOa.png)\n",
    "\n",
    "    USE platzi;\n",
    "    SELECT DATABASE();\n",
    "\n",
    "![](https://i.imgur.com/lfWTxvv.png)\n",
    "\n"
   ]
  },
  {
   "cell_type": "markdown",
   "metadata": {},
   "source": [
    "### CREATE TABLE\n",
    "\n",
    "ver: **1_create.sql**\n",
    "\n",
    "![](https://i.imgur.com/91RgSev.png)\n",
    "\n",
    "Una buena practica es la tabla se llame en el plural del sustantivo que vamos a guardar, y preferiblemente en Ingles. \n",
    "\n",
    "- Con el AUTOINCREMENT: va almacenar el siguiente numero del ultimo que se guardo, sin importar cuantos se hayan borrando anteriormente. La cardinalidad hace referencia al tamaño de un conjunto.\n",
    "\n",
    "- SQL permite indicar si un INTEGER sea positivo y negativo, o solo positivo, con la palabra reservada: \n",
    "\n",
    "- VARCHAR; hay que indicarle el numero maximo de caracters puede usar esa cadena\n",
    "\n",
    "- Es diferente un dato NULL a uno vacio. Un vacio podria ser \"\". Mientras que NULL quiere decir que no se ha almacenada absolutamente nada.\n",
    "\n",
    "- DEFAULT quiere decir que si no se le va asignar nada, pues se le asigna el valor por defecto\n",
    "\n",
    "- Para el lenguage solo se usaran dos caracteres de acuerdo a un standart ISO\n",
    "\n",
    "- COMMENT es un comentario que no va a ser visible para el usuario, sino solo para el desarrolladora\n",
    "\n",
    "- Las imagenes(binario) no se guardan en la BD, se guarda un link a donde esta almacenado\n",
    "\n",
    "- El precio es un DOUBLE, para almacenar decimales, por ejemplo DOUBLE(6,2): de los 6 digitos reserva 2 para decimales.\n",
    "\n",
    "- hay diferentes tipos de enteros en mysql, uno muy util es TINYINT(), para el caso TINYINT(1) almacena un 1 o un 0.\n",
    "\n",
    "- TEXT: significa que puedes meter lo que quieras"
   ]
  },
  {
   "cell_type": "markdown",
   "metadata": {},
   "source": [
    "## Tipos de columnas / Creación de la tabla authors\n",
    "\n",
    "Una buena practica son las palabras reservadas del lenguaje en MAYUSCULAS y nombres de tablas, etc etc en minusculas. Crearemos la tabla.\n",
    "\n",
    "ver: **1_create.sql**\n",
    "\n",
    "![](https://i.imgur.com/VzcSl7Z.png)"
   ]
  },
  {
   "cell_type": "markdown",
   "metadata": {},
   "source": [
    "### Comando DROP\n",
    "\n",
    "Muy peligroso, no hay vuelta de hoja\n",
    "\n",
    "    DROP TABLE IF EXISTS books; \n",
    "    DROP TABLE IF EXISTS authors; \n",
    "\n",
    "### Comando Describe\n",
    "\n",
    "Normal y abreviado\n",
    "\n",
    "    describe authors;\n",
    "    describe authors;\n",
    "\n",
    "Otro muy util es, y muestra los comentarios, para darle un mejor formato, con un zoom mas pequeño\n",
    "\n",
    "    show full columns from books;\n",
    "\n",
    "![](https://i.imgur.com/h8gGaAA.png)\n",
    "\n",
    "\n",
    "\n"
   ]
  },
  {
   "cell_type": "markdown",
   "metadata": {},
   "source": [
    "### Palabras reservadas\n",
    "\n",
    "Como *year*, *average*, *date*, *name* y querramos usarlo como el nombre de una columna, y evitar ambiguedades. Se usa la comilla de tilde inversa o **Backtick**. \n",
    "\n",
    "- EN Windows es ALT+96. \n",
    "- En LINUX.`` Depende del teclado\n",
    "\n",
    "Corrigamos nuestro script. "
   ]
  },
  {
   "cell_type": "markdown",
   "metadata": {},
   "source": [
    "## Tipos de columnas usando / Creación de la tabla clientes\n",
    "\n",
    "ver: **1_create.sql**\n",
    "\n",
    "![](https://i.imgur.com/32LQSDW.png)\n",
    "\n",
    "- UNIQUE: es una llave que indica que tiene que ser unico para cada tipo de tupla, de esta forma validariamos no hallan dos personas con el mismo email\n",
    "\n",
    "- Para *birthdate* usaremos DATETIME, mientras que para *created_at* TIMESTAMP\n",
    "\n",
    "- ENUM:  is a string object with a value chosen from a list of permitted values that are enumerated explicitly. Usaremos ENUM para *gender*\n",
    "\n",
    "Es una muy buena practica que casi todas las tablas tengan una columna para el *created_at*. El TIMESTAMP esta basada en el numero *epoch*, es decir el numero de segundo desde 1/1/1970.\n",
    "\n",
    "TIMESTAMP tiene muchas opciones interesantes, como por ejemplo, y usando la palabra reservada CURRENT_TIMESTAMP. Es decir, que al momento de crearlo tomara el valor actual. \n",
    "\n",
    "Tambien usaremos TIMESTAMP, y de una manera muy elgante para que actualize el campo al momento de un UPDATE\n"
   ]
  },
  {
   "cell_type": "markdown",
   "metadata": {},
   "source": [
    "### Borrar o no borrar datos de una BD\n",
    "\n",
    "Como buena practica nunca se debe borrar datos de una BD, lo que se hace es poner el dato *activo* o *inactivo*. \n",
    "\n",
    "- active TINYINT(1) NOT NULL DEFAULT 1\n",
    "\n",
    "### Conclusiones\n",
    "\n",
    "el updated_at y *created_at* es metainformacion que no necesariamente esta relacionada con el objeto, pero que nos va ayudar a realizar consultas como por ejempl numero de usuarios activos desde hace un mes, o creados el año pasado y modifcados hace una semana. \n",
    "\n",
    "![](https://i.imgur.com/9qRNc8D.png)\n",
    "\n",
    "#### Reto\n",
    "\n",
    "Crear la tabla de *operations* que relacione al client con el libro. Si el libro fue prestado, vendido, o devuelto. La venta de por si es una operacion completa por defecto, se vende y ya esta(a menos exista garantia)\n",
    "\n"
   ]
  }
 ],
 "metadata": {
  "language_info": {
   "name": "python"
  },
  "orig_nbformat": 4
 },
 "nbformat": 4,
 "nbformat_minor": 2
}
