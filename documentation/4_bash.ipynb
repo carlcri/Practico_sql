{
 "cells": [
  {
   "cell_type": "markdown",
   "metadata": {},
   "source": [
    "# BASH y Archivos SQL\n",
    "\n",
    "Vamos a tener en nuestro scripts, un script de creacion de estructura de la BD, y otro para los datos.\n",
    "\n",
    "- **all_schema.sql**\n",
    "- **all_data.sql**\n",
    "\n",
    "Una vez creado el contenedor como lo solemos hacer, abrimos una nueva terminal:\n",
    "\n",
    "    docker exec -it mysql-db bash\n",
    "\n",
    "Y procedemos a copiar el archivo *create.sql* dentro de una carpeta que cree en el contenedor llamada *data*\n",
    "\n",
    "    docker cp scripts/1_create.sql mysql-db:/data/create.sql\n",
    "\n",
    "Y retorna:\n",
    "\n",
    "    docker cp scripts/1_create.sql mysql-db:/data/create.sql"
   ]
  },
  {
   "cell_type": "markdown",
   "metadata": {},
   "source": [
    "## Ejecutando el Script de Creacion:\n",
    "\n",
    "Asegurate de usar el comando *USE*\n",
    "\n",
    "![](https://i.imgur.com/b76s0wB.png)\n",
    "\n",
    "Ejecutamos:\n",
    "\n",
    "    mysql -u root -p < data/all_schema.sql\n",
    "\n",
    "Si verificas ahora tu base de datos, no tendra nada. Pero no importa. "
   ]
  },
  {
   "cell_type": "markdown",
   "metadata": {},
   "source": [
    "## Ejecutando el Script de Insercion\n",
    "\n",
    "### El Script tiene el statement USE\n",
    "\n",
    "![](https://i.imgur.com/o2lYMzb.png)\n",
    "\n",
    "Lo copiamos dentro del contenedor:\n",
    "\n",
    "    docker cp scripts/all_data.sql mysql-db:/data/all_data.sql\n",
    "\n",
    "y en la terminal de *bash*:\n",
    "\n",
    "    mysql -u root -p < data/all_data.sql"
   ]
  },
  {
   "cell_type": "markdown",
   "metadata": {},
   "source": [
    "### El Script no tiene el statement USE\n",
    "\n",
    "Que es lo mas comun. Lo copiamos, y al momento de ejecutar le indicamos la BD:\n",
    "\n",
    "    mysql -u root -p -D platzi < data/all_data.sql"
   ]
  },
  {
   "cell_type": "markdown",
   "metadata": {},
   "source": [
    "Como recorderis esto signica *traeme todo lo que esta en el archivo *all_data* y metelo al standart input del otro comando."
   ]
  },
  {
   "cell_type": "markdown",
   "metadata": {},
   "source": [
    "### ¿Persistiran los dos archivos que copiamos anteriormente?\n",
    "\n",
    "![](https://i.imgur.com/cWCup9a.png)\n",
    "\n",
    "PUes como vez el directorio *data* no esta por ningun lado.\n"
   ]
  },
  {
   "cell_type": "markdown",
   "metadata": {},
   "source": [
    "### Persisitendo la informacion.\n",
    "\n",
    "Observando la documentacion de docker hub, nos da una pista donde puede estar almacenada la informacion:\n",
    "\n",
    "    var/lib/mysql\n",
    "\n",
    "Igualmente al usar el comando:\n",
    "\n",
    "    docker inspect mysql-db\n",
    "\n",
    "Encontramos que:\n",
    "\n",
    "![](https://i.imgur.com/HuibOmR.png)"
   ]
  },
  {
   "cell_type": "markdown",
   "metadata": {},
   "source": [
    "Dentro del container, creo un folder:\n",
    "\n",
    "    mkdir /var/lib/mysql/data\n",
    "\n",
    "Y copio la informacion en este nuevo directorio:\n",
    "\n",
    "    docker cp scripts/all_schema.sql mysql-db:/var/lib/mysql/data/all_schema.sql\n",
    "\n",
    "E igualmente en una terminal bash:\n",
    "\n",
    "    mysql -u root -p < var/lib/mysql/data/all_schema.sql"
   ]
  },
  {
   "cell_type": "markdown",
   "metadata": {},
   "source": [
    "#### Copiando los datos\n",
    "\n",
    "De una manera muy similar:\n",
    "\n",
    "    docker cp scripts/all_data.sql mysql-db:/var/lib/mysql/data/all_data.sql\n",
    "\n",
    "    mysql -u root -p -D platzi < /var/lib/mysql/data/all_data.sql"
   ]
  }
 ],
 "metadata": {
  "language_info": {
   "name": "python"
  },
  "orig_nbformat": 4
 },
 "nbformat": 4,
 "nbformat_minor": 2
}
